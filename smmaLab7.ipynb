{
  "nbformat": 4,
  "nbformat_minor": 0,
  "metadata": {
    "colab": {
      "provenance": []
    },
    "kernelspec": {
      "name": "python3",
      "display_name": "Python 3"
    },
    "language_info": {
      "name": "python"
    }
  },
  "cells": [
    {
      "cell_type": "markdown",
      "source": [
        "\n"
      ],
      "metadata": {
        "id": "Aglj-mzCTSr8"
      }
    },
    {
      "cell_type": "code",
      "execution_count": null,
      "metadata": {
        "colab": {
          "base_uri": "https://localhost:8080/"
        },
        "id": "UHKb9-GKTQBG",
        "outputId": "71756f02-f725-491a-dcfb-827c7a35caf3"
      },
      "outputs": [
        {
          "output_type": "stream",
          "name": "stdout",
          "text": [
            "        date                                               text\n",
            "0 2023-11-18                Acme Corp's new product is amazing!\n",
            "1 2023-11-18  I'm having trouble with Acme Corp's customer s...\n",
            "2 2023-11-19                             Acme Corp is the best!\n",
            "3 2023-11-19                   Acme Corp's prices are too high.\n",
            "4 2023-11-20                                  I love Acme Corp!\n",
            "5 2023-11-20                   Acme Corp is a terrible company.\n",
            "        date                                               text  sentiment\n",
            "0 2023-11-18                Acme Corp's new product is amazing!   0.443182\n",
            "1 2023-11-18  I'm having trouble with Acme Corp's customer s...  -0.200000\n",
            "2 2023-11-19                             Acme Corp is the best!   1.000000\n",
            "3 2023-11-19                   Acme Corp's prices are too high.   0.160000\n",
            "4 2023-11-20                                  I love Acme Corp!   0.625000\n",
            "5 2023-11-20                   Acme Corp is a terrible company.  -1.000000\n",
            "Overall Sentiment: Positive\n",
            "        date  sentiment\n",
            "0 2023-11-18   0.121591\n",
            "1 2023-11-19   0.580000\n",
            "2 2023-11-20  -0.187500\n"
          ]
        }
      ],
      "source": [
        "#7  Sentiment Analysis\n",
        "import pandas as pd\n",
        "\n",
        "# Create a sample DataFrame\n",
        "data = {\n",
        "    'date': pd.to_datetime(['2023-11-18', '2023-11-18', '2023-11-19', '2023-11-19', '2023-11-20', '2023-11-20']),\n",
        "    'text': [\n",
        "        \"Acme Corp's new product is amazing!\",\n",
        "        \"I'm having trouble with Acme Corp's customer service.\",\n",
        "        \"Acme Corp is the best!\",\n",
        "        \"Acme Corp's prices are too high.\",\n",
        "        \"I love Acme Corp!\",\n",
        "        \"Acme Corp is a terrible company.\"\n",
        "    ]\n",
        "}\n",
        "df = pd.DataFrame(data)\n",
        "\n",
        "# Display the DataFrame\n",
        "print(df)\n",
        "from textblob import TextBlob\n",
        "\n",
        "# Define a function to get sentiment polarity\n",
        "def get_sentiment(text):\n",
        "    analysis = TextBlob(text)\n",
        "    return analysis.sentiment.polarity\n",
        "\n",
        "# Apply the function to the 'text' column\n",
        "df['sentiment'] = df['text'].apply(get_sentiment)\n",
        "\n",
        "# Display the DataFrame with sentiment\n",
        "print(df)\n",
        "# Calculate average sentiment\n",
        "average_sentiment = df['sentiment'].mean()\n",
        "\n",
        "# Categorize overall sentiment\n",
        "if average_sentiment > 0:\n",
        "    overall_sentiment = \"Positive\"\n",
        "elif average_sentiment < 0:\n",
        "    overall_sentiment = \"Negative\"\n",
        "else:\n",
        "    overall_sentiment = \"Neutral\"\n",
        "\n",
        "# Print overall sentiment\n",
        "print(f\"Overall Sentiment: {overall_sentiment}\")\n",
        "# Group by date and calculate average sentiment\n",
        "sentiment_by_date = df.groupby('date')['sentiment'].mean().reset_index()\n",
        "\n",
        "# Display sentiment by date\n",
        "print(sentiment_by_date)"
      ]
    }
  ]
}