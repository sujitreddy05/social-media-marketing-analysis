{
  "nbformat": 4,
  "nbformat_minor": 0,
  "metadata": {
    "colab": {
      "provenance": []
    },
    "kernelspec": {
      "name": "python3",
      "display_name": "Python 3"
    },
    "language_info": {
      "name": "python"
    }
  },
  "cells": [
    {
      "cell_type": "code",
      "execution_count": null,
      "metadata": {
        "colab": {
          "base_uri": "https://localhost:8080/"
        },
        "id": "AQYb3Koxp0pF",
        "outputId": "4b540630-98bf-44c7-8b80-c10df9bb2081"
      },
      "outputs": [
        {
          "output_type": "stream",
          "name": "stdout",
          "text": [
            "Summary of A/B Test Results:\n",
            "  Variation  Engagement     Clicks  Conversions  Conversion_Rate\n",
            "0         A  179.833333  30.080000    16.926667         0.562722\n",
            "1         B  177.706667  29.946667    14.986667         0.500445\n",
            "\n",
            "Best variation based on Engagement: Variation                   A\n",
            "Engagement         179.833333\n",
            "Clicks                  30.08\n",
            "Conversions         16.926667\n",
            "Conversion_Rate      0.562722\n",
            "Name: 0, dtype: object\n",
            "Best variation based on Clicks: Variation                   A\n",
            "Engagement         179.833333\n",
            "Clicks                  30.08\n",
            "Conversions         16.926667\n",
            "Conversion_Rate      0.562722\n",
            "Name: 0, dtype: object\n",
            "Best variation based on Conversion Rate: Variation                   A\n",
            "Engagement         179.833333\n",
            "Clicks                  30.08\n",
            "Conversions         16.926667\n",
            "Conversion_Rate      0.562722\n",
            "Name: 0, dtype: object\n"
          ]
        }
      ],
      "source": [
        "import pandas as pd\n",
        "\n",
        "# Load the CSV dataset\n",
        "data = pd.read_csv('/content/Exp 9 Dataset(1).csv')\n",
        "\n",
        "# Group the data by Variation and calculate average metrics for each\n",
        "summary = data.groupby('Variation').agg({\n",
        "    'Engagement': 'mean',\n",
        "    'Clicks': 'mean',\n",
        "    'Conversions': 'mean'\n",
        "}).reset_index()\n",
        "\n",
        "# Calculate conversion rate (Conversions / Clicks)\n",
        "summary['Conversion_Rate'] = summary['Conversions'] / summary['Clicks']\n",
        "\n",
        "# Print the summary of the A/B test\n",
        "print(\"Summary of A/B Test Results:\")\n",
        "print(summary)\n",
        "\n",
        "# Determine which variation performed better based on each metric\n",
        "better_engagement = summary.loc[summary['Engagement'].idxmax()]\n",
        "better_clicks = summary.loc[summary['Clicks'].idxmax()]\n",
        "better_conversion_rate = summary.loc[summary['Conversion_Rate'].idxmax()]\n",
        "\n",
        "print(f\"\\nBest variation based on Engagement: {better_engagement}\")\n",
        "print(f\"Best variation based on Clicks: {better_clicks}\")\n",
        "print(f\"Best variation based on Conversion Rate: {better_conversion_rate}\")\n"
      ]
    }
  ]
}