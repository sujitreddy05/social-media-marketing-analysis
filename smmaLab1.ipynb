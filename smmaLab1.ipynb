{
  "nbformat": 4,
  "nbformat_minor": 0,
  "metadata": {
    "colab": {
      "provenance": []
    },
    "kernelspec": {
      "name": "python3",
      "display_name": "Python 3"
    },
    "language_info": {
      "name": "python"
    }
  },
  "cells": [
    {
      "cell_type": "code",
      "execution_count": 2,
      "metadata": {
        "colab": {
          "base_uri": "https://localhost:8080/"
        },
        "id": "BGhoQi-d29k4",
        "outputId": "6294e422-0a71-4cd6-9db1-2bf14483f450"
      },
      "outputs": [
        {
          "output_type": "stream",
          "name": "stdout",
          "text": [
            "<class 'pandas.core.frame.DataFrame'>\n",
            "RangeIndex: 300 entries, 0 to 299\n",
            "Data columns (total 9 columns):\n",
            " #   Column           Non-Null Count  Dtype  \n",
            "---  ------           --------------  -----  \n",
            " 0   Date             300 non-null    object \n",
            " 1   Platform         300 non-null    object \n",
            " 2   Followers        300 non-null    int64  \n",
            " 3   New Followers    300 non-null    int64  \n",
            " 4   Likes            300 non-null    int64  \n",
            " 5   Comments         300 non-null    int64  \n",
            " 6   Shares           300 non-null    int64  \n",
            " 7   Engagement Rate  300 non-null    float64\n",
            " 8   Demographic      300 non-null    object \n",
            "dtypes: float64(1), int64(5), object(3)\n",
            "memory usage: 21.2+ KB\n"
          ]
        },
        {
          "output_type": "execute_result",
          "data": {
            "text/plain": [
              "(Platform\n",
              " Facebook     5.332031\n",
              " Instagram    5.309833\n",
              " LinkedIn     5.051587\n",
              " TikTok       5.806604\n",
              " Twitter      5.182333\n",
              " Name: Engagement Rate, dtype: float64,\n",
              " Platform\n",
              " Facebook     32722\n",
              " Instagram    27475\n",
              " LinkedIn     32816\n",
              " TikTok       24691\n",
              " Twitter      29499\n",
              " Name: New Followers, dtype: int64,\n",
              "           Date  Platform  Followers  New Followers  Likes  Comments  Shares  \\\n",
              " 270 2024-01-01    TikTok     446406            514   2971       102     115   \n",
              " 64  2024-01-05  Facebook      78033            442   2943        75     172   \n",
              " 98  2024-01-09  LinkedIn     109924            833   1117       350      91   \n",
              " 103 2024-01-14  Facebook     109589            420   2659       426     197   \n",
              " 177 2024-01-28  Facebook     383699            160    573       208     108   \n",
              " \n",
              "      Engagement Rate Demographic  \n",
              " 270             9.99         65+  \n",
              " 64              9.96       55-64  \n",
              " 98              9.92       35-44  \n",
              " 103             9.83       35-44  \n",
              " 177             9.82       18-24  ,\n",
              " Demographic\n",
              " 18-24    22.666667\n",
              " 25-34    17.000000\n",
              " 65+      17.000000\n",
              " 55-64    15.666667\n",
              " 45-54    15.333333\n",
              " 35-44    12.333333\n",
              " Name: proportion, dtype: float64)"
            ]
          },
          "metadata": {},
          "execution_count": 2
        }
      ],
      "source": [
        "import pandas as pd\n",
        "\n",
        "# Load the dataset\n",
        "file_path = \"/content/Exp 1 Dataset(1).csv\"\n",
        "df = pd.read_csv(file_path)\n",
        "\n",
        "# Display basic information and the first few rows\n",
        "df.info(), df.head()\n",
        "# Convert Date column to datetime format\n",
        "df[\"Date\"] = pd.to_datetime(df[\"Date\"])\n",
        "\n",
        "# Filter data for the last 30 days (assuming the latest date in the dataset is the reference point)\n",
        "latest_date = df[\"Date\"].max()\n",
        "last_month_df = df[df[\"Date\"] >= (latest_date - pd.Timedelta(days=30))]\n",
        "\n",
        "# Calculate average engagement rate per platform\n",
        "engagement_by_platform = last_month_df.groupby(\"Platform\")[\"Engagement Rate\"].mean()\n",
        "\n",
        "# Calculate total follower growth per platform\n",
        "follower_growth_by_platform = last_month_df.groupby(\"Platform\")[\"New Followers\"].sum()\n",
        "\n",
        "# Identify top-performing posts (sorting by highest engagement rate)\n",
        "top_posts = last_month_df.sort_values(by=\"Engagement Rate\", ascending=False).head(5)\n",
        "\n",
        "# Calculate demographic distribution\n",
        "demographic_distribution = last_month_df[\"Demographic\"].value_counts(normalize=True) * 100\n",
        "\n",
        "engagement_by_platform, follower_growth_by_platform, top_posts, demographic_distribution\n"
      ]
    },
    {
      "cell_type": "code",
      "source": [],
      "metadata": {
        "id": "XhvCDXrt6gvq"
      },
      "execution_count": null,
      "outputs": []
    }
  ]
}